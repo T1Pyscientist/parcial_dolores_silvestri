{
 "cells": [
  {
   "cell_type": "code",
   "execution_count": 10,
   "metadata": {},
   "outputs": [],
   "source": [
    "import pandas as pd\n",
    "import datetime"
   ]
  },
  {
   "cell_type": "code",
   "execution_count": 44,
   "metadata": {},
   "outputs": [
    {
     "name": "stderr",
     "output_type": "stream",
     "text": [
      "/tmp/ipykernel_23095/2374307776.py:1: DtypeWarning: Columns (8) have mixed types. Specify dtype option on import or set low_memory=False.\n",
      "  df = pd.read_csv('data/completo.csv', delimiter=\";\")\n"
     ]
    }
   ],
   "source": [
    "df = pd.read_csv('data/completo.csv', delimiter=\";\")"
   ]
  },
  {
   "cell_type": "code",
   "execution_count": 85,
   "metadata": {},
   "outputs": [],
   "source": [
    "dataset = [[m//3 + 1, 0] for m in range(12*3)]\n",
    "\n",
    "for i in range(len(dataset)):\n",
    "    if i % 3 == 0:\n",
    "        dataset[i].append(\"App\")\n",
    "    elif i % 3 == 1:\n",
    "        dataset[i].append(\"Web\")   \n",
    "    else:\n",
    "        dataset[i].append(\"Otros\")\n",
    "\n",
    "\n",
    "\n",
    "for row in df.values:\n",
    "    if type(row[4]) == str:\n",
    "        fecha = datetime.datetime.strptime(row[4], \"%d/%m/%Y\")\n",
    "        if row[12] == \"App BA 147\" or row[12] == \"App Denuncia Vial\":\n",
    "            dataset[(fecha.month-1)*3][1] += 1\n",
    "        elif row[12] == \"GCS Web\":\n",
    "            dataset[(fecha.month-1)*3+1][1] += 1\n",
    "        else:\n",
    "            dataset[(fecha.month-1)*3+2][1] += 1"
   ]
  },
  {
   "cell_type": "code",
   "execution_count": 86,
   "metadata": {},
   "outputs": [],
   "source": [
    "df_red = pd.DataFrame(dataset)\n",
    "df_red.columns = [\"Mes\", \"Valor\", \"Canal\"]"
   ]
  },
  {
   "cell_type": "code",
   "execution_count": 88,
   "metadata": {},
   "outputs": [],
   "source": [
    "df_red.to_csv(\"denuncias_por_mes.csv\")"
   ]
  },
  {
   "cell_type": "code",
   "execution_count": 91,
   "metadata": {},
   "outputs": [
    {
     "name": "stdout",
     "output_type": "stream",
     "text": [
      "1900-01-01 11:54:30\n",
      "1900-01-01 12:02:56\n",
      "1900-01-01 11:55:21\n",
      "1900-01-01 12:14:07\n",
      "1900-01-01 12:22:34\n",
      "1900-01-01 12:33:53\n",
      "1900-01-01 12:47:56\n",
      "1900-01-01 12:55:01\n",
      "1900-01-01 12:11:42\n",
      "1900-01-01 12:25:43\n"
     ]
    }
   ],
   "source": [
    "for row in df.values[:10]:\n",
    "    if type(row[4]) == str:\n",
    "        hora = datetime.datetime.strptime(row[5], \"%H:%M:%S\")\n",
    "        print(hora)"
   ]
  },
  {
   "cell_type": "code",
   "execution_count": null,
   "metadata": {},
   "outputs": [],
   "source": []
  }
 ],
 "metadata": {
  "kernelspec": {
   "display_name": "metodos",
   "language": "python",
   "name": "python3"
  },
  "language_info": {
   "codemirror_mode": {
    "name": "ipython",
    "version": 3
   },
   "file_extension": ".py",
   "mimetype": "text/x-python",
   "name": "python",
   "nbconvert_exporter": "python",
   "pygments_lexer": "ipython3",
   "version": "3.9.13"
  },
  "orig_nbformat": 4
 },
 "nbformat": 4,
 "nbformat_minor": 2
}
