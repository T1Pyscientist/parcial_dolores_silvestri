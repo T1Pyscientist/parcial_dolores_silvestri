{
 "cells": [
  {
   "cell_type": "code",
   "execution_count": 142,
   "metadata": {},
   "outputs": [],
   "source": [
    "import pandas as pd\n",
    "import datetime"
   ]
  },
  {
   "cell_type": "code",
   "execution_count": 44,
   "metadata": {},
   "outputs": [
    {
     "name": "stderr",
     "output_type": "stream",
     "text": [
      "/tmp/ipykernel_23095/2374307776.py:1: DtypeWarning: Columns (8) have mixed types. Specify dtype option on import or set low_memory=False.\n",
      "  df = pd.read_csv('data/completo.csv', delimiter=\";\")\n"
     ]
    }
   ],
   "source": [
    "df = pd.read_csv('data/completo.csv', delimiter=\";\")"
   ]
  },
  {
   "cell_type": "code",
   "execution_count": 85,
   "metadata": {},
   "outputs": [],
   "source": [
    "dataset = [[m//3 + 1, 0] for m in range(12*3)]\n",
    "\n",
    "for i in range(len(dataset)):\n",
    "    if i % 3 == 0:\n",
    "        dataset[i].append(\"App\")\n",
    "    elif i % 3 == 1:\n",
    "        dataset[i].append(\"Web\")   \n",
    "    else:\n",
    "        dataset[i].append(\"Otros\")\n",
    "\n",
    "\n",
    "\n",
    "for row in df.values:\n",
    "    if type(row[4]) == str:\n",
    "        fecha = datetime.datetime.strptime(row[4], \"%d/%m/%Y\")\n",
    "        if row[12] == \"App BA 147\" or row[12] == \"App Denuncia Vial\":\n",
    "            dataset[(fecha.month-1)*3][1] += 1\n",
    "        elif row[12] == \"GCS Web\":\n",
    "            dataset[(fecha.month-1)*3+1][1] += 1\n",
    "        else:\n",
    "            dataset[(fecha.month-1)*3+2][1] += 1"
   ]
  },
  {
   "cell_type": "code",
   "execution_count": 86,
   "metadata": {},
   "outputs": [],
   "source": [
    "df_red = pd.DataFrame(dataset)\n",
    "df_red.columns = [\"Mes\", \"Valor\", \"Canal\"]"
   ]
  },
  {
   "cell_type": "code",
   "execution_count": 88,
   "metadata": {},
   "outputs": [],
   "source": [
    "df_red.to_csv(\"denuncias_por_mes.csv\")"
   ]
  },
  {
   "cell_type": "code",
   "execution_count": 171,
   "metadata": {},
   "outputs": [],
   "source": [
    "# dataset = [Barrio, Denuncias Julio, Denuncias Agosto]\n",
    "barrios = df[\"domicilio_barrio\"].unique().tolist()[1:]\n",
    "dataset = pd.DataFrame()\n",
    "dataset[\"Barrio\"] = barrios\n",
    "dataset[\"Julio\"] = [0 for _ in range(len(barrios))]\n",
    "dataset[\"Agosto\"] = [0 for _ in range(len(barrios))]\n",
    "\n",
    "for row in df.values:\n",
    "    if type(row[4]) == str:\n",
    "        fecha = datetime.datetime.strptime(row[4], \"%d/%m/%Y\")\n",
    "        if not pd.isnull(row[7]):\n",
    "            if fecha.month == 4:\n",
    "                dataset.loc[dataset['Barrio'] == row[7], \"Julio\"] += 1\n",
    "            elif fecha.month == 8:\n",
    "                dataset.loc[dataset['Barrio'] == row[7], \"Agosto\"] += 1\n"
   ]
  },
  {
   "cell_type": "code",
   "execution_count": 172,
   "metadata": {},
   "outputs": [],
   "source": [
    "dataset.to_csv(\"denuncias_por_barrio.csv\")"
   ]
  },
  {
   "cell_type": "code",
   "execution_count": null,
   "metadata": {},
   "outputs": [],
   "source": []
  }
 ],
 "metadata": {
  "kernelspec": {
   "display_name": "metodos",
   "language": "python",
   "name": "python3"
  },
  "language_info": {
   "codemirror_mode": {
    "name": "ipython",
    "version": 3
   },
   "file_extension": ".py",
   "mimetype": "text/x-python",
   "name": "python",
   "nbconvert_exporter": "python",
   "pygments_lexer": "ipython3",
   "version": "3.9.13"
  },
  "orig_nbformat": 4
 },
 "nbformat": 4,
 "nbformat_minor": 2
}
